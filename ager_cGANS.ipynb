{
  "nbformat": 4,
  "nbformat_minor": 0,
  "metadata": {
    "colab": {
      "name": "Untitled25.ipynb",
      "provenance": [],
      "collapsed_sections": [],
      "toc_visible": true,
      "authorship_tag": "ABX9TyPm/Mku75dwqhMXu7Gzrxmm",
      "include_colab_link": true
    },
    "kernelspec": {
      "name": "python3",
      "display_name": "Python 3"
    },
    "accelerator": "GPU"
  },
  "cells": [
    {
      "cell_type": "markdown",
      "metadata": {
        "id": "view-in-github",
        "colab_type": "text"
      },
      "source": [
        "<a href=\"https://colab.research.google.com/github/cwilliamjay/GANS/blob/master/ager_cGANS.ipynb\" target=\"_parent\"><img src=\"https://colab.research.google.com/assets/colab-badge.svg\" alt=\"Open In Colab\"/></a>"
      ]
    },
    {
      "cell_type": "code",
      "metadata": {
        "id": "4p4-sq7NtPtk"
      },
      "source": [
        "!git clone 'https://github.com/PacktPublishing/Generative-Adversarial-Networks-Projects.git'"
      ],
      "execution_count": null,
      "outputs": []
    },
    {
      "cell_type": "code",
      "metadata": {
        "id": "m-sYsF_ftrDr"
      },
      "source": [
        "%cd Generative-Adversarial-Networks-Projects"
      ],
      "execution_count": null,
      "outputs": []
    },
    {
      "cell_type": "code",
      "metadata": {
        "id": "e5egKlpWtrGr"
      },
      "source": [
        "%cd Chapter03"
      ],
      "execution_count": null,
      "outputs": []
    },
    {
      "cell_type": "code",
      "metadata": {
        "id": "Km6jJZ7RtrJt"
      },
      "source": [
        "!pip install -r requirements.txt"
      ],
      "execution_count": null,
      "outputs": []
    },
    {
      "cell_type": "code",
      "metadata": {
        "id": "wIJZg6FjtrNu"
      },
      "source": [
        "# Before download the dataset move to data directory\r\n",
        "%cd data\r\n",
        "\r\n",
        "# Wikipedia : Download faces only\r\n",
        "!wget https://data.vision.ee.ethz.ch/cvl/rrothe/imdb-wiki/static/wiki_crop.tar"
      ],
      "execution_count": null,
      "outputs": []
    },
    {
      "cell_type": "code",
      "metadata": {
        "id": "YjgmWVT-trQ9"
      },
      "source": [
        "# Move to data directory\r\n",
        "%cd data\r\n",
        "\r\n",
        "# Extract wiki_crop.tar\r\n",
        "!tar -xvf wiki_crop.tar"
      ],
      "execution_count": null,
      "outputs": []
    },
    {
      "cell_type": "code",
      "metadata": {
        "id": "2sXl-FpcvLCp"
      },
      "source": [
        "def load_data(wiki_dir, dataset='wiki'):\r\n",
        "    # Load the wiki.mat file\r\n",
        "    meta = loadmat(os.path.join(wiki_dir, \"{}.mat\".format(dataset)))\r\n",
        "\r\n",
        "    # Load the list of all files\r\n",
        "    full_path = meta[dataset][0, 0][\"full_path\"][0]\r\n",
        "\r\n",
        "    # List of Matlab serial date numbers\r\n",
        "    dob = meta[dataset][0, 0][\"dob\"][0]\r\n",
        "\r\n",
        "    # List of years when photo was taken\r\n",
        "    photo_taken = meta[dataset][0, 0][\"photo_taken\"][0]  # year\r\n",
        "\r\n",
        "    # Calculate age for all dobs\r\n",
        "    age = [calculate_age(photo_taken[i], dob[i]) for i in range(len(dob))]\r\n",
        "\r\n",
        "    # Create a list of tuples containing a pair of an image path and age\r\n",
        "    images = []\r\n",
        "    age_list = []\r\n",
        "    for index, image_path in enumerate(full_path):\r\n",
        "        images.append(image_path[0])\r\n",
        "        age_list.append(age[index])\r\n",
        "\r\n",
        "    # Return a list of all images and respective age\r\n",
        "    return images, age_list"
      ],
      "execution_count": 16,
      "outputs": []
    },
    {
      "cell_type": "markdown",
      "metadata": {
        "id": "simYS48px6TA"
      },
      "source": [
        "The photo_taken variable is a list of years and dob is Matlab's serial date number for the corresponding photo in the list. We can calculate the age of the person from the serial date number and the year the photo was taken. Use the following code to calculate the age:"
      ]
    },
    {
      "cell_type": "code",
      "metadata": {
        "id": "65pl4I44vK-0"
      },
      "source": [
        "def calculate_age(taken, dob):\r\n",
        "    birth = datetime.fromordinal(max(int(dob) - 366, 1))\r\n",
        "\r\n",
        "# assume the photo was taken in the middle of the year\r\n",
        "    if birth.month < 7:\r\n",
        "       return taken - birth.year\r\n",
        "    else:\r\n",
        "       return taken - birth.year - 1"
      ],
      "execution_count": 15,
      "outputs": []
    },
    {
      "cell_type": "code",
      "metadata": {
        "id": "F7pzFhMzvK6m"
      },
      "source": [
        "import math\r\n",
        "import os\r\n",
        "import time\r\n",
        "from datetime import datetime\r\n",
        "\r\n",
        "import matplotlib.pyplot as plt\r\n",
        "import numpy as np\r\n",
        "import tensorflow as tf\r\n",
        "from keras import Input, Model\r\n",
        "from keras.applications import InceptionResNetV2\r\n",
        "from keras.callbacks import TensorBoard\r\n",
        "from keras.layers import Conv2D, Flatten, Dense, BatchNormalization, Reshape, concatenate, LeakyReLU\r\n",
        "from keras.layers import Lambda, Conv2DTranspose, Activation, UpSampling2D, Dropout\r\n",
        "from keras.optimizers import Adam\r\n",
        "from keras.utils import to_categorical\r\n",
        "from keras_preprocessing import image\r\n",
        "from scipy.io import loadmat"
      ],
      "execution_count": 24,
      "outputs": []
    },
    {
      "cell_type": "code",
      "metadata": {
        "id": "P9JdbFimvK2V"
      },
      "source": [
        "input_layer = Input(shape=(64,64,3))"
      ],
      "execution_count": 26,
      "outputs": []
    },
    {
      "cell_type": "markdown",
      "metadata": {
        "id": "uEM0vSoXvKx5"
      },
      "source": [
        "Next, add the first convolution block, which contains a 2D convolution layer with an activation function with the following configurations:\r\n",
        "* Filters: 32\r\n",
        "* Kernel size: 5\r\n",
        "* Strides: 2\r\n",
        "* Padding: same\r\n",
        "* Activation: LeakyReLU with alpha equal to 0.2:\r\n",
        "\r\n",
        "\r\n",
        "\r\n",
        "\r\n"
      ]
    },
    {
      "cell_type": "code",
      "metadata": {
        "id": "nHZ9KTAGvKtB"
      },
      "source": [
        "# 1st Convolutional Block\r\n",
        "enc = Conv2D(filters=32, kernel_size=5, strides=2, padding='same')(input_layer)\r\n",
        "enc = LeakyReLU(alpha=0.2)(enc)"
      ],
      "execution_count": 27,
      "outputs": []
    },
    {
      "cell_type": "code",
      "metadata": {
        "id": "dm4CQyrKvKmp"
      },
      "source": [
        ""
      ],
      "execution_count": null,
      "outputs": []
    }
  ]
}